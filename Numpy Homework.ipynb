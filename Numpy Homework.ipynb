{
 "cells": [
  {
   "cell_type": "markdown",
   "metadata": {},
   "source": [
    "# `Python` в науке и инженерии\n",
    "\n",
    "## Домашнее задание №2. `Numpy`\n",
    "\n",
    "Правила выполнения работы:\n",
    "\n",
    "- Решение каждой задачи должно располагаться в **ячейке типа \"Код\" под ячейкой с условием задачи**\n",
    "- **Результат** каждой задачи должен быть **выведен на экран**\n",
    "- **Запрещено** изменять ячейки с условиями задач каким-либо образом и перемещать их\n",
    "- Все задачи должны быть решены с использованием **векторизации**\n",
    "- Если в условии задачи не сказано иное, **не допускается** применение циклов `for`, `while`, генераторов списков и любых других циклов и их заменителей, не входящих в `numpy`\n",
    "- **В квадратных скобках** в конце условия задачи указано **количество баллов** за корректное выполнение этой задачи\n",
    "\n",
    "\n",
    "Полезные документы:\n",
    "\n",
    "- [Numpy Cheat Sheet](https://s3.amazonaws.com/assets.datacamp.com/blog_assets/Numpy_Python_Cheat_Sheet.pdf)\n",
    "- [Scientific Python Lectures / Numpy](https://github.com/jrjohansson/scientific-python-lectures/blob/master/Lecture-2-Numpy.ipynb)\n",
    "- [Matplotlib Cheat Sheet](https://s3.amazonaws.com/assets.datacamp.com/blog_assets/Python_Matplotlib_Cheat_Sheet.pdf)\n"
   ]
  },
  {
   "cell_type": "code",
   "execution_count": 142,
   "metadata": {},
   "outputs": [],
   "source": [
    "import numpy as np"
   ]
  },
  {
   "cell_type": "markdown",
   "metadata": {},
   "source": [
    "### Генерация массивов, индексация и срезы [25]"
   ]
  },
  {
   "cell_type": "markdown",
   "metadata": {},
   "source": [
    "**1. Сгенерировать одномерный целочисленный массив от 6 до 33 включительно с числами, делящимся на 3 [1]**"
   ]
  },
  {
   "cell_type": "code",
   "execution_count": 143,
   "metadata": {},
   "outputs": [
    {
     "name": "stdout",
     "output_type": "stream",
     "text": [
      "[ 6  9 12 15 18 21 24 27 30 33]\n"
     ]
    }
   ],
   "source": [
    "arr1 = np.arange(6, 36, 3)\n",
    "print(arr1)"
   ]
  },
  {
   "cell_type": "markdown",
   "metadata": {},
   "source": [
    "**2. Сгенерировать одномерный массив `x` и найти все `dx[i] = x[i+1] - x[i]` [2]**"
   ]
  },
  {
   "cell_type": "code",
   "execution_count": 144,
   "metadata": {},
   "outputs": [
    {
     "name": "stdout",
     "output_type": "stream",
     "text": [
      "Исходный массив: [17 11 17 26 28 10 18 17 26 17 27 12 17 11 21]\n",
      "Массив разностей: [ -6   6   9   2 -18   8  -1   9  -9  10 -15   5  -6  10]\n"
     ]
    }
   ],
   "source": [
    "arr2 = np.random.randint(10, 30, 15)\n",
    "darr2 = np.diff(arr2)\n",
    "print('Исходный массив:', arr2)\n",
    "print('Массив разностей:', darr2)"
   ]
  },
  {
   "cell_type": "markdown",
   "metadata": {},
   "source": [
    "**3. Создать массив 8х8 и заполнить его 0 и 1 в шахматном порядке, используя срезы [1] и True/False индексацию [1]**"
   ]
  },
  {
   "cell_type": "code",
   "execution_count": 145,
   "metadata": {},
   "outputs": [
    {
     "name": "stdout",
     "output_type": "stream",
     "text": [
      "Матрица, построенная при помощи срезов:\n",
      "[[1. 0. 1. 0. 1. 0. 1. 0.]\n",
      " [0. 1. 0. 1. 0. 1. 0. 1.]\n",
      " [1. 0. 1. 0. 1. 0. 1. 0.]\n",
      " [0. 1. 0. 1. 0. 1. 0. 1.]\n",
      " [1. 0. 1. 0. 1. 0. 1. 0.]\n",
      " [0. 1. 0. 1. 0. 1. 0. 1.]\n",
      " [1. 0. 1. 0. 1. 0. 1. 0.]\n",
      " [0. 1. 0. 1. 0. 1. 0. 1.]]\n",
      "\n",
      "True/False маска:\n",
      "[[ True False  True False  True False  True False]\n",
      " [False  True False  True False  True False  True]\n",
      " [ True False  True False  True False  True False]\n",
      " [False  True False  True False  True False  True]\n",
      " [ True False  True False  True False  True False]\n",
      " [False  True False  True False  True False  True]\n",
      " [ True False  True False  True False  True False]\n",
      " [False  True False  True False  True False  True]]\n",
      "\n",
      "матрица, построенная при помощи True/False индексации:\n",
      "[[1. 0. 1. 0. 1. 0. 1. 0.]\n",
      " [0. 1. 0. 1. 0. 1. 0. 1.]\n",
      " [1. 0. 1. 0. 1. 0. 1. 0.]\n",
      " [0. 1. 0. 1. 0. 1. 0. 1.]\n",
      " [1. 0. 1. 0. 1. 0. 1. 0.]\n",
      " [0. 1. 0. 1. 0. 1. 0. 1.]\n",
      " [1. 0. 1. 0. 1. 0. 1. 0.]\n",
      " [0. 1. 0. 1. 0. 1. 0. 1.]]\n",
      "\n"
     ]
    }
   ],
   "source": [
    "matrix3_0 = np.zeros([8,8])\n",
    "matrix3_1 = np.zeros([8,8])\n",
    "\n",
    "# Решение через срезы:\n",
    "matrix3_0[::2, ::2] = 1\n",
    "matrix3_0[1::2, 1::2] = 1\n",
    "print(f'Матрица, построенная при помощи срезов:\\n{matrix3_0}\\n')\n",
    "\n",
    "# Решение через маску:\n",
    "mask = np.full([8,8],False)\n",
    "mask[::2, ::2] = True\n",
    "mask[1::2, 1::2] = True\n",
    "print(f'True/False маска:\\n{mask}\\n')\n",
    "matrix3_1[mask] = 1\n",
    "print(f'матрица, построенная при помощи True/False индексации:\\n{matrix3_1}\\n')"
   ]
  },
  {
   "cell_type": "markdown",
   "metadata": {},
   "source": [
    "**4. Создать массив 8х8 и заполнить его 0 и 1 в шахматном порядке, используя функцию tile [2]**"
   ]
  },
  {
   "cell_type": "code",
   "execution_count": 146,
   "metadata": {},
   "outputs": [
    {
     "name": "stdout",
     "output_type": "stream",
     "text": [
      "[[1. 0. 1. 0. 1. 0. 1. 0.]\n",
      " [0. 1. 0. 1. 0. 1. 0. 1.]\n",
      " [1. 0. 1. 0. 1. 0. 1. 0.]\n",
      " [0. 1. 0. 1. 0. 1. 0. 1.]\n",
      " [1. 0. 1. 0. 1. 0. 1. 0.]\n",
      " [0. 1. 0. 1. 0. 1. 0. 1.]\n",
      " [1. 0. 1. 0. 1. 0. 1. 0.]\n",
      " [0. 1. 0. 1. 0. 1. 0. 1.]]\n"
     ]
    }
   ],
   "source": [
    "matrix4 = np.identity(2)\n",
    "matrix4 = np.tile(matrix4, [4,4])\n",
    "print(matrix4)"
   ]
  },
  {
   "cell_type": "markdown",
   "metadata": {},
   "source": [
    "**5. Создать двумерный массив и выбрать из него элементы согласно рисунку [2]**\n",
    "\n",
    "<img src='hw-slice1.png' width=240, heigth=240>"
   ]
  },
  {
   "cell_type": "code",
   "execution_count": 147,
   "metadata": {},
   "outputs": [
    {
     "name": "stdout",
     "output_type": "stream",
     "text": [
      "исходная матрица:\n",
      "[[ 1  2  3  4  5  6  7  8]\n",
      " [ 9 10 11 12 13 14 15 16]\n",
      " [17 18 19 20 21 22 23 24]\n",
      " [25 26 27 28 29 30 31 32]\n",
      " [33 34 35 36 37 38 39 40]\n",
      " [41 42 43 44 45 46 47 48]\n",
      " [49 50 51 52 53 54 55 56]\n",
      " [57 58 59 60 61 62 63 64]]\n",
      "\n",
      "список выбранных элементов:\n",
      "[[19 20 21 22 27 28 29 30 35 36 37 38 43 44 45 46]]\n"
     ]
    }
   ],
   "source": [
    "matrix5 = np.arange(1,65).reshape([8,8])\n",
    "print(f'исходная матрица:\\n{matrix5}\\n')\n",
    "mask = np.full([8,8],True)\n",
    "mask[:2:] = False\n",
    "mask[::, :2:] = False\n",
    "mask[7:5:-1] = False\n",
    "mask[::, 7:5:-1] = False\n",
    "arr5 = matrix5[mask].reshape(1,-1)\n",
    "print(f'список выбранных элементов:\\n{arr5}')"
   ]
  },
  {
   "cell_type": "markdown",
   "metadata": {},
   "source": [
    "**6. Создать двумерный массив и выбрать из него элементы согласно рисунку [3]**\n",
    "<img src='hw-slice2.png' width=240, heigth=240>"
   ]
  },
  {
   "cell_type": "code",
   "execution_count": 148,
   "metadata": {},
   "outputs": [
    {
     "name": "stdout",
     "output_type": "stream",
     "text": [
      "исходная матрица:\n",
      "[[  2   4   6   8  10  12  14  16  18]\n",
      " [ 20  22  24  26  28  30  32  34  36]\n",
      " [ 38  40  42  44  46  48  50  52  54]\n",
      " [ 56  58  60  62  64  66  68  70  72]\n",
      " [ 74  76  78  80  82  84  86  88  90]\n",
      " [ 92  94  96  98 100 102 104 106 108]\n",
      " [110 112 114 116 118 120 122 124 126]\n",
      " [128 130 132 134 136 138 140 142 144]\n",
      " [146 148 150 152 154 156 158 160 162]]\n",
      "\n",
      "список выбранных элементов:\n",
      "[[  2   4   6   8  10  12  14  16  18  20  22  24  26  28  30  32  34  38\n",
      "   40  42  44  46  48  50  56  58  60  62  64  66  74  76  78  80  82  92\n",
      "   94  96  98 110 112 114 128 130 146]]\n"
     ]
    }
   ],
   "source": [
    "matrix6 = np.arange(2,164,2).reshape([9,9])\n",
    "print(f'исходная матрица:\\n{matrix6}\\n')\n",
    "mask = np.full([9,9],True)\n",
    "mask = np.triu(mask)\n",
    "mask = np.rot90(mask)\n",
    "arr6 = matrix6[mask].reshape(1,-1)\n",
    "print(f'список выбранных элементов:\\n{arr6}')"
   ]
  },
  {
   "cell_type": "markdown",
   "metadata": {},
   "source": [
    "**7. Создать двумерный массив и выбрать из него элементы согласно рисунку [2]**\n",
    "<img src='hw-slice3.png' width=240, heigth=240>"
   ]
  },
  {
   "cell_type": "code",
   "execution_count": 149,
   "metadata": {},
   "outputs": [
    {
     "name": "stdout",
     "output_type": "stream",
     "text": [
      "исходная матрица:\n",
      "[[100  99  98  97  96  95  94  93  92]\n",
      " [ 91  90  89  88  87  86  85  84  83]\n",
      " [ 82  81  80  79  78  77  76  75  74]\n",
      " [ 73  72  71  70  69  68  67  66  65]\n",
      " [ 64  63  62  61  60  59  58  57  56]\n",
      " [ 55  54  53  52  51  50  49  48  47]\n",
      " [ 46  45  44  43  42  41  40  39  38]\n",
      " [ 37  36  35  34  33  32  31  30  29]\n",
      " [ 28  27  26  25  24  23  22  21  20]]\n",
      "\n",
      "список выбранных элементов:\n",
      "[[99 96 93 90 87 84 36 33 30 27 24 21]]\n"
     ]
    }
   ],
   "source": [
    "matrix7 = np.arange(100,19,-1).reshape([9,9])\n",
    "print(f'исходная матрица:\\n{matrix7}\\n')\n",
    "mask = np.full([9,9],False)\n",
    "mask[:2:,1::3] = True\n",
    "mask[:6:-1,1::3] = True\n",
    "arr7 = matrix7[mask].reshape(1,-1)\n",
    "print(f'список выбранных элементов:\\n{arr7}')"
   ]
  },
  {
   "cell_type": "markdown",
   "metadata": {},
   "source": [
    "**8. Сформировать двумерный массив с распределением Гаусса [2]** "
   ]
  },
  {
   "cell_type": "code",
   "execution_count": 150,
   "metadata": {},
   "outputs": [
    {
     "name": "stdout",
     "output_type": "stream",
     "text": [
      "[[-1.24327492  0.28898578 -0.75413696 -0.92206524 -0.31450185]\n",
      " [-0.01608698 -1.6859477  -0.10695056 -0.65401773  0.51085455]\n",
      " [ 0.05903437 -1.30399134  0.60135823 -0.32355352 -0.44117652]\n",
      " [-1.12608035 -0.20294582 -0.77491095 -0.80138321  0.83197166]\n",
      " [ 1.44901593  0.09628851  1.92235415 -0.35109115 -0.39959144]]\n"
     ]
    }
   ],
   "source": [
    "matrix8 = np.random.normal(size = (5, 5))\n",
    "print(matrix8)"
   ]
  },
  {
   "cell_type": "markdown",
   "metadata": {},
   "source": [
    "**9. Создайте функцию, которая из строки длины $n$ возвращает матрицу размера $n{\\times}n$ со строками, состоящими из исходной строки, смещённой на $k=\\overline{0,n-1}$ позиций [4] : \n",
    "$$s = \\{1, 2, 3\\}$$\n",
    "$$A = \\begin{bmatrix} 1 & 2 & 3 \\\\ 3 & 1 & 2 \\\\ 2 & 3 & 1 \\end{bmatrix}$$**"
   ]
  },
  {
   "cell_type": "markdown",
   "metadata": {},
   "source": [
    "Создайте "
   ]
  },
  {
   "cell_type": "code",
   "execution_count": 151,
   "metadata": {},
   "outputs": [],
   "source": [
    "def make_matrix9(stroke, len, n):\n",
    "    matrix9 = [list(stroke[len-n:len] + stroke[:len-n])]\n",
    "    if n != len-1:\n",
    "        return np.vstack([matrix9,make_matrix9(stroke, len, n+1)])\n",
    "    else:\n",
    "        return matrix9"
   ]
  },
  {
   "cell_type": "code",
   "execution_count": 152,
   "outputs": [
    {
     "name": "stdout",
     "output_type": "stream",
     "text": [
      "[['1' '2' '3' '4' '5' '6' '7' '8' '9']\n",
      " ['9' '1' '2' '3' '4' '5' '6' '7' '8']\n",
      " ['8' '9' '1' '2' '3' '4' '5' '6' '7']\n",
      " ['7' '8' '9' '1' '2' '3' '4' '5' '6']\n",
      " ['6' '7' '8' '9' '1' '2' '3' '4' '5']\n",
      " ['5' '6' '7' '8' '9' '1' '2' '3' '4']\n",
      " ['4' '5' '6' '7' '8' '9' '1' '2' '3']\n",
      " ['3' '4' '5' '6' '7' '8' '9' '1' '2']\n",
      " ['2' '3' '4' '5' '6' '7' '8' '9' '1']]\n"
     ]
    }
   ],
   "source": [
    "str = input()\n",
    "print(make_matrix9(str, len(str), 0))"
   ],
   "metadata": {
    "collapsed": false
   }
  },
  {
   "cell_type": "markdown",
   "metadata": {},
   "source": [
    "**10. Создать функцию, генерирующую матрицу размера $n{\\times}n$ следующего вида:[5]**\n",
    "\n",
    "*Можно использовать for и column_stack row_stack*\n",
    "$$\\begin{vmatrix}1\\\\ \\end{vmatrix} \\; \\begin{vmatrix} 1 & 1 \\\\ 1 & 1 \\\\ \\end{vmatrix}\\; \\begin{vmatrix} 2 & 2 &2\\\\ 2 & 1 &2\\\\ 2 & 2 &2\\\\ \\end{vmatrix} \\; \\begin{vmatrix} 2 & 2 & 2 &2\\\\ 2 & 1 & 1 &2\\\\ 2 & 1 & 1 &2\\\\ 2 & 2 & 2 &2\\\\ \\end{vmatrix} \\; \\begin{vmatrix} 3 & 3 & 3 & 3 &3\\\\ 3 & 2 & 2 & 2 &3\\\\ 3 & 2 & 1 & 2 &3\\\\ 3 & 2 & 2 & 2 &3\\\\ 3 & 3 & 3 & 3 &3\\\\ \\end{vmatrix}\\; \\begin{vmatrix} 4 & 4 & 4 & 4 & 4 & 4 & 4 & 4\\\\ 4 & 3 & 3 & 3 & 3 & 3 & 3 & 4\\\\ 4 & 3 & 2 & 2 & 2 & 2 & 3 & 4\\\\ 4 & 3 & 2 & 1 & 1 & 2 & 3 & 4\\\\ 4 & 3 & 2 & 1 & 1 & 2 & 3 & 4\\\\ 4 & 3 & 2 & 2 & 2 & 2 & 3 & 4\\\\ 4 & 3 & 3 & 3 & 3 & 3 & 3 & 4\\\\ 4 & 4 & 4 & 4 & 4 & 4 & 4 & 4\\\\ \\end{vmatrix}$$"
   ]
  },
  {
   "cell_type": "code",
   "execution_count": 153,
   "metadata": {},
   "outputs": [],
   "source": [
    "def make_matrix10(n):\n",
    "    matrix10 = np.ones([n,n])\n",
    "    for i in range(n//2):\n",
    "        matrix10[i:n-i, i:i+1] = n//2 + n%2 - i\n",
    "        matrix10[i:i+1, i:n-i] = n//2 + n%2 - i\n",
    "        matrix10[i:n-i, n-i-1:n-i] = n//2 + n%2 - i\n",
    "        matrix10[n-i-1:n-i, i:n-i] = n//2 + n%2 - i\n",
    "    return matrix10"
   ]
  },
  {
   "cell_type": "code",
   "execution_count": 154,
   "outputs": [
    {
     "name": "stdout",
     "output_type": "stream",
     "text": [
      "[[4. 4. 4. 4. 4. 4. 4.]\n",
      " [4. 3. 3. 3. 3. 3. 4.]\n",
      " [4. 3. 2. 2. 2. 3. 4.]\n",
      " [4. 3. 2. 1. 2. 3. 4.]\n",
      " [4. 3. 2. 2. 2. 3. 4.]\n",
      " [4. 3. 3. 3. 3. 3. 4.]\n",
      " [4. 4. 4. 4. 4. 4. 4.]]\n"
     ]
    }
   ],
   "source": [
    "print(make_matrix10(int(input())))"
   ],
   "metadata": {
    "collapsed": false
   }
  },
  {
   "cell_type": "markdown",
   "metadata": {},
   "source": [
    "## Линейная алгебра [9]"
   ]
  },
  {
   "cell_type": "markdown",
   "metadata": {},
   "source": [
    "**1. Вычислить $$\\left((А - 2B^T)\\cdot(C+2D)\\right)^{-1}$$ [2]**\n",
    "\n",
    "$$A = \\begin{bmatrix} -3 & 0 \\\\ 2 & -1 \\\\ 1 & 1 \\\\ 0 & 3 \\end{bmatrix}$$\n",
    "$$B = \\begin{bmatrix} 3 & 2& 1 & -4 \\\\ 1 & 1& -3 & 0  \\end{bmatrix}$$\n",
    "$$C = \\begin{bmatrix} 4 & 0& -3& 2 \\\\2& 3& -1& 4 \\end{bmatrix}$$\n",
    "$$D = \\begin{bmatrix} 10 & 5 & -1& 1 \\\\ -4 & 3 & -3& 0 \\end{bmatrix}$$\n",
    "\n",
    "\n"
   ]
  },
  {
   "cell_type": "code",
   "execution_count": 155,
   "outputs": [],
   "source": [
    "from numpy import linalg as la"
   ],
   "metadata": {
    "collapsed": false
   }
  },
  {
   "cell_type": "code",
   "execution_count": 156,
   "metadata": {},
   "outputs": [
    {
     "name": "stdout",
     "output_type": "stream",
     "text": [
      "Матрица произведения:\n",
      "[[-204 -108   59  -44]\n",
      " [ -30  -47   31  -20]\n",
      " [ -66   53  -44   24]\n",
      " [ 174  107  -61   44]]\n",
      "\n",
      "Ранг матрицы произведения = 2 => матрица вырожденная => обратная неопределена.\n"
     ]
    }
   ],
   "source": [
    "a = np.array([[-3, 0], [2, -1], [1, 1], [0, 3]])\n",
    "b = np.array([[3, 2, 1, -4], [1, 1, -3, 0]])\n",
    "c = np.array([[4, 0, -3, 2], [2, 3, -1, 4]])\n",
    "d = np.array([[10, 5, -1, 1], [-4, 3, -3, 0]])\n",
    "lin_matrix1 = (a - 2 * b.T).dot((c + 2 * d))\n",
    "print(f'Матрица произведения:\\n{lin_matrix1}\\n')\n",
    "print(f'Ранг матрицы произведения = {la.matrix_rank(lin_matrix1)} => матрица вырожденная => обратная неопределена.')"
   ]
  },
  {
   "cell_type": "markdown",
   "metadata": {},
   "source": [
    "**2. Решить матричное уравнение $$A\\cdot X = B$$ [3]**\n",
    "$$A = \\begin{bmatrix} 3 & 1 \\\\ -3 & 1\\end{bmatrix}$$\n",
    "$$B = \\begin{bmatrix} 9 & 5 \\\\ -3 & -1\\end{bmatrix}$$"
   ]
  },
  {
   "cell_type": "code",
   "execution_count": 157,
   "metadata": {},
   "outputs": [
    {
     "name": "stdout",
     "output_type": "stream",
     "text": [
      "Матрица решения:\n",
      "[[2. 1.]\n",
      " [3. 2.]]\n"
     ]
    }
   ],
   "source": [
    "a = np.array([[3, 1], [-3, 1]])\n",
    "b = np.array([[9, 5], [-3, -1]])\n",
    "lin_matrix2 = la.inv(a).dot(b)\n",
    "print(f'Матрица решения:\\n{lin_matrix2}')"
   ]
  },
  {
   "cell_type": "markdown",
   "metadata": {},
   "source": [
    "**3. Определить максимальное число линейно независимых строк матрцицы [1]**\n",
    "$$A = \\begin{bmatrix} 2 & 3 & 5 \\\\ 3&7&8 \\\\ 1&-6&1 \\\\ 7 &-2 &15 \\end{bmatrix}$$"
   ]
  },
  {
   "cell_type": "markdown",
   "source": [
    "*Ранг марицы - максимальное число линейно независимых строк*\n",
    "*Используем это утверждение для решения*"
   ],
   "metadata": {
    "collapsed": false
   }
  },
  {
   "cell_type": "code",
   "execution_count": 158,
   "metadata": {},
   "outputs": [
    {
     "name": "stdout",
     "output_type": "stream",
     "text": [
      "Максимальное число линейно независимых строк данной матрицы:\n",
      "2\n"
     ]
    }
   ],
   "source": [
    "a = np.array([[2, 3, 5], [3, 7, 8], [1, -6, 1], [7, -2, 15]])\n",
    "print(f'Максимальное число линейно независимых строк данной матрицы:\\n{la.matrix_rank(a)}')"
   ]
  },
  {
   "cell_type": "markdown",
   "metadata": {},
   "source": [
    "**4. Решить систему линейных алгебраических уравнений и продемонстрировать правильность решения [3]**\n",
    "<img src='hw-slau.png' width=400, heigth=240>\n"
   ]
  },
  {
   "cell_type": "code",
   "execution_count": 159,
   "outputs": [
    {
     "name": "stdout",
     "output_type": "stream",
     "text": [
      "Корни уравнения:\n",
      "[-7.63203007 18.19576706 17.99409093  8.95556787 -9.71857145  1.87138468\n",
      "  5.19594038 -8.99922225]\n",
      "\n",
      "Координаты данного вектора:\n",
      "[ 34  62  53  93  32  44  99 -75]\n",
      "\n",
      "Решения линейных комбинаций:\n",
      "[ 34.  62.  53.  93.  32.  44.  99. -75.]\n",
      "\n",
      "Разность матрицы координат и матрицы решений:\n",
      "[0 0 0 0 0 0 0 0]\n",
      "Получили нули => решение правильное\n"
     ]
    }
   ],
   "source": [
    "coefs = np.array([[-5, -5, 0, 11, 2, -9, 3,-1], [-11, -4, 4, -5, -8, 4, 2, 8],\n",
    "                  [-1, 0, 2, -7, 2, -4, 0, -11], [1, -7, 13, -4, 2, -1, -4, -8],\n",
    "                  [0, 2, 7, -4, 0, -5, -6, 6], [-3, -1, 5, 0, 0, -1, 1, 6],\n",
    "                  [7, 0, 8, -4, 1, -5, 7, -3], [-4, -3, 0, 2, 9, -8, 3, -2]])\n",
    "ext = np.array([34, 62, 53, 93, 32, 44, 99, -75])\n",
    "lin_arr3 = la.solve(coefs, ext.T)\n",
    "print(f'Корни уравнения:\\n{lin_arr3}\\n')\n",
    "lin_matrix3 = lin_arr3[0]*coefs[:, 0] + lin_arr3[1]*coefs[:, 1] + lin_arr3[2]*coefs[:, 2] + lin_arr3[3]*coefs[:, 3]\\\n",
    "              + lin_arr3[4]*coefs[:, 4] + lin_arr3[5]*coefs[:, 5] + lin_arr3[6]*coefs[:, 6] + lin_arr3[7]*coefs[:, 7]\n",
    "print(f'Координаты данного вектора:\\n{ext}\\n')\n",
    "print(f'Решения линейных комбинаций:\\n{lin_matrix3}\\n')\n",
    "print(f'Разность матрицы координат и матрицы решений:\\n{np.subtract(lin_matrix3,ext).astype(\"int64\")}\\nПолучили нули => решение правильное')"
   ],
   "metadata": {
    "collapsed": false
   }
  },
  {
   "cell_type": "markdown",
   "metadata": {},
   "source": [
    "## Аналитическая геометрия [32]"
   ]
  },
  {
   "cell_type": "markdown",
   "metadata": {},
   "source": [
    "**1. Сгенерировать массив из 10 точек (10 пар координат в декартовой системе координат). Приобразовать координаты в полярную систему [2]**"
   ]
  },
  {
   "cell_type": "code",
   "execution_count": 160,
   "metadata": {},
   "outputs": [
    {
     "name": "stdout",
     "output_type": "stream",
     "text": [
      "Изначальный массив точек (В ДСК):\n",
      "[[-66  80]\n",
      " [  4  52]\n",
      " [ 46   1]\n",
      " [ 21  52]\n",
      " [-77  56]\n",
      " [ 16 -95]\n",
      " [ 88 -30]\n",
      " [-91  17]\n",
      " [ 10  94]\n",
      " [ 36  55]]\n",
      "\n",
      "Преобразованный массив точек (В ПСК):\n",
      "[[ 1.03711137e+02  2.26059637e+00]\n",
      " [ 5.21536192e+01  1.49402444e+00]\n",
      " [ 4.60108683e+01  2.17357068e-02]\n",
      " [ 5.60802996e+01  1.18697870e+00]\n",
      " [ 9.52102936e+01  2.51279637e+00]\n",
      " [ 9.63379468e+01 -1.40394117e+00]\n",
      " [ 9.29731144e+01 -3.28553171e-01]\n",
      " [ 9.25742945e+01  2.95690827e+00]\n",
      " [ 9.45304184e+01  1.46481197e+00]\n",
      " [ 6.57343137e+01  9.91232342e-01]]\n",
      "\n"
     ]
    }
   ],
   "source": [
    "ang_matrix0 = np.random.randint(-100, 100, (10,2));\n",
    "ang_matrix1 = np.empty((10,2))\n",
    "ang_matrix1[:, 0] = np.hypot(ang_matrix0[:, 0], ang_matrix0[:, 1])\n",
    "ang_matrix1[:, 1] = np.arctan2(ang_matrix0[:, 1], ang_matrix0[:, 0])\n",
    "print(f'Изначальный массив точек (В ДСК):\\n{ang_matrix0}\\n')\n",
    "print(f'Преобразованный массив точек (В ПСК):\\n{ang_matrix1}\\n')"
   ]
  },
  {
   "cell_type": "markdown",
   "metadata": {},
   "source": [
    "**2. Дан массив (100,2) координат точек. Найти две точки, находящиеся на максимальном расстоянии друг от друга, и вывести их координаты [2]**"
   ]
  },
  {
   "cell_type": "code",
   "execution_count": 161,
   "outputs": [],
   "source": [
    "from scipy.spatial import distance"
   ],
   "metadata": {
    "collapsed": false
   }
  },
  {
   "cell_type": "code",
   "execution_count": 162,
   "metadata": {},
   "outputs": [
    {
     "name": "stdout",
     "output_type": "stream",
     "text": [
      "Координаты данных точек:\n",
      "[[0.26743924 0.87722889]\n",
      " [0.74856661 0.84286655]\n",
      " [0.26086319 0.22285664]\n",
      " [0.65360944 0.49180889]\n",
      " [0.22312791 0.97160183]\n",
      " [0.90282427 0.40758882]\n",
      " [0.90598761 0.5337324 ]\n",
      " [0.42080507 0.43869967]\n",
      " [0.48670032 0.67594343]\n",
      " [0.77265399 0.02341522]\n",
      " [0.82264126 0.94918675]\n",
      " [0.10387604 0.12778657]\n",
      " [0.83916892 0.70868655]\n",
      " [0.10416554 0.96267801]\n",
      " [0.68384804 0.72747698]\n",
      " [0.9205542  0.71522879]\n",
      " [0.27451597 0.16535791]\n",
      " [0.91059748 0.31659741]\n",
      " [0.19968198 0.65411063]\n",
      " [0.83492628 0.66002999]\n",
      " [0.9374547  0.45257383]\n",
      " [0.38364308 0.72314151]\n",
      " [0.29794913 0.85282379]\n",
      " [0.9791695  0.80298195]\n",
      " [0.66337934 0.56619639]\n",
      " [0.37183883 0.75355455]\n",
      " [0.88636056 0.02452973]\n",
      " [0.38857159 0.62069991]\n",
      " [0.09773414 0.88174028]\n",
      " [0.90265073 0.1658572 ]\n",
      " [0.88738907 0.6903978 ]\n",
      " [0.05583447 0.23530932]\n",
      " [0.68515921 0.11214353]\n",
      " [0.83544866 0.49295916]\n",
      " [0.29630875 0.57870091]\n",
      " [0.52540561 0.19900141]\n",
      " [0.72316086 0.06168385]\n",
      " [0.01476514 0.62258136]\n",
      " [0.96431052 0.13953166]\n",
      " [0.37327934 0.95235251]\n",
      " [0.7850796  0.02719402]\n",
      " [0.2582411  0.92525334]\n",
      " [0.16546448 0.68316641]\n",
      " [0.7795082  0.63372577]\n",
      " [0.84915158 0.53111908]\n",
      " [0.96093192 0.35409207]\n",
      " [0.01883095 0.62505401]\n",
      " [0.77055266 0.64264623]\n",
      " [0.28124394 0.58437607]\n",
      " [0.00996783 0.30109047]\n",
      " [0.92613552 0.87418214]\n",
      " [0.36508831 0.72547988]\n",
      " [0.82483595 0.77841341]\n",
      " [0.58166077 0.68421493]\n",
      " [0.08654506 0.01810904]\n",
      " [0.71041251 0.79961358]\n",
      " [0.41281099 0.60198071]\n",
      " [0.35630203 0.40135488]\n",
      " [0.31029789 0.66607224]\n",
      " [0.07416312 0.13869418]\n",
      " [0.36049842 0.67057439]\n",
      " [0.19470221 0.45898177]\n",
      " [0.1158591  0.41958402]\n",
      " [0.78706994 0.83594106]\n",
      " [0.41742925 0.57775319]\n",
      " [0.30923226 0.88691182]\n",
      " [0.04178503 0.16568057]\n",
      " [0.49962086 0.98247622]\n",
      " [0.79570262 0.58938161]\n",
      " [0.43542774 0.38772614]\n",
      " [0.77421992 0.06035609]\n",
      " [0.78987167 0.99558948]\n",
      " [0.22910181 0.18494032]\n",
      " [0.44178875 0.88933081]\n",
      " [0.56178753 0.81452482]\n",
      " [0.44019946 0.62870202]\n",
      " [0.28319806 0.31395468]\n",
      " [0.97865986 0.0446659 ]\n",
      " [0.78984776 0.30198086]\n",
      " [0.91098501 0.38254041]\n",
      " [0.22998387 0.80110396]\n",
      " [0.44097002 0.48455862]\n",
      " [0.09489997 0.34106704]\n",
      " [0.17843902 0.45690048]\n",
      " [0.84040468 0.43523088]\n",
      " [0.3404368  0.58666334]\n",
      " [0.12555349 0.988188  ]\n",
      " [0.85744853 0.99692963]\n",
      " [0.07471    0.73315704]\n",
      " [0.47946954 0.26684317]\n",
      " [0.1445482  0.55713468]\n",
      " [0.28215154 0.72683981]\n",
      " [0.60430066 0.27490406]\n",
      " [0.63071819 0.68727661]\n",
      " [0.80893905 0.22078758]\n",
      " [0.72185585 0.60181467]\n",
      " [0.04564919 0.48701733]\n",
      " [0.29082783 0.21539339]\n",
      " [0.57530607 0.16253801]\n",
      " [0.27998346 0.91054941]]\n",
      "Координаты точек, находящих на максимальном расстоянии:\n",
      "1) [0.97865986 0.0446659 ] \n",
      "2) [0.12555349 0.988188  ]\n"
     ]
    }
   ],
   "source": [
    "M = np.random.random((100,2))\n",
    "ang_matrix = distance.cdist(M, M)\n",
    "inds_of_max = np.argmax(ang_matrix)\n",
    "ind1, ind2 = np.unravel_index(inds_of_max, np.shape(ang_matrix))\n",
    "print(f'Координаты данных точек:\\n{M}')\n",
    "print ('Координаты точек, находящих на максимальном расстоянии:\\n1)', M[ind1],'\\n2)', M[ind2])"
   ]
  },
  {
   "cell_type": "markdown",
   "metadata": {},
   "source": [
    "**3. Дан набор точек P и прямая L (y = Ax + B). Написать функцию, вычисляющую расстояние от каждой точки до прямой [3]** "
   ]
  },
  {
   "cell_type": "code",
   "execution_count": 163,
   "metadata": {},
   "outputs": [],
   "source": [
    "P = np.random.uniform(-10,10,(10,2))\n",
    "L = np.random.uniform(-10,10, (1,2))"
   ]
  },
  {
   "cell_type": "code",
   "execution_count": 164,
   "outputs": [],
   "source": [
    "def dist(line, coordi):\n",
    "    A,B = line[0][0], line[0][1]\n",
    "    distance = np.dot(np.absolute(np.dot(A, coordi[:,0]) + np.dot(B, coordi[:,1])), 1/np.sqrt(A**2 + B**2))\n",
    "    return distance"
   ],
   "metadata": {
    "collapsed": false
   }
  },
  {
   "cell_type": "code",
   "execution_count": 165,
   "outputs": [
    {
     "name": "stdout",
     "output_type": "stream",
     "text": [
      "Прямая: -3.325175233905977X + -6.438264284059974Y\n",
      "\n",
      "Расстояния от точек до нее:\n",
      "[[ 6.63490701]\n",
      " [ 6.97694163]\n",
      " [ 2.16274259]\n",
      " [ 5.99456735]\n",
      " [ 2.28950052]\n",
      " [ 1.90162929]\n",
      " [ 1.17012778]\n",
      " [ 7.80564922]\n",
      " [ 1.95114926]\n",
      " [12.04698825]]\n"
     ]
    }
   ],
   "source": [
    "print('Прямая:', f'{L[0][0]}X + {L[0][1]}Y\\n')\n",
    "print('Расстояния от точек до нее:')\n",
    "print(dist(L, P).reshape([-1,1]))"
   ],
   "metadata": {
    "collapsed": false
   }
  },
  {
   "cell_type": "markdown",
   "metadata": {},
   "source": [
    "**4. Сгенерировать массив P размера (4, 2) из случайных чисел, равномерно распределенных в полуинтервале (-10, 10). Считая, что массив хранит координаты точек на плоскости, провести через первую и вторую пару точек прямые и найти координаты точки их пересечения [5]**"
   ]
  },
  {
   "cell_type": "code",
   "execution_count": 166,
   "metadata": {},
   "outputs": [
    {
     "name": "stdout",
     "output_type": "stream",
     "text": [
      "Координаты точек:\n",
      " [[ 3.00975474 -5.44179818]\n",
      " [-4.97736799  7.19217671]\n",
      " [-9.40254349  4.83825618]\n",
      " [-5.95085286 -6.03325091]] \n",
      "\n",
      "Прямая 1: -12.633974896158476X + -7.98712272811281Y + -5.439144176746826\n",
      "\n",
      "Прямая 2: 10.871507089473335X + 3.451690628555747Y + 85.51965465305878\n",
      "\n",
      "Координаты точки пересечения: X = 15.36853585211276, Y = -23.628853392384197\n"
     ]
    }
   ],
   "source": [
    "P = np.random.uniform(-10, 10, (4, 2))\n",
    "print('Координаты точек:\\n', P, '\\n')\n",
    "L2 =  np.array([P[2][1]-P[3][1], P[3][0]-P[2][0], P[2][0]*P[3][1] - P[3][0]*P[2][1]])\n",
    "L1 = np.array([P[0][1]-P[1][1], P[1][0]-P[0][0], P[0][0]*P[1][1] - P[1][0]*P[0][1]])\n",
    "interpoint = la.solve(np.vstack([L1,L2])[:,:2], np.vstack([L1,L2])[:,2:])\n",
    "print('Прямая 1:', f'{L1[0]}X + {L1[1]}Y + {L1[2]}\\n')\n",
    "print('Прямая 2:', f'{L2[0]}X + {L2[1]}Y + {L2[2]}\\n')\n",
    "print(f'Координаты точки пересечения: X = {np.ravel(interpoint)[0]}, Y = {np.ravel(interpoint)[1]}')"
   ]
  },
  {
   "cell_type": "markdown",
   "metadata": {},
   "source": [
    "**5. Доказать, что векторы (3; 4; 3), (–2; 3; 1), (4; –2; 3) образуют базис и найти координаты вектора (–17; 18; –7) в этом базисе. [2]**"
   ]
  },
  {
   "cell_type": "code",
   "execution_count": 167,
   "metadata": {},
   "outputs": [
    {
     "name": "stdout",
     "output_type": "stream",
     "text": [
      "Ранг матрицы, образованной координатами векторов = 3 => матрица невырожденная => векторы не компланарны => образуют базиc, ч.т.д\n",
      "\n",
      "Координаты данного вектора в новом базисе: [ 1.  2. -4.]\n"
     ]
    }
   ],
   "source": [
    "V1 = np.array([[3],[4],[3]])\n",
    "V2 = np.array([[-2],[3],[1]])\n",
    "V3 = np.array([[4], [-2], [3]])\n",
    "V = np.array([[-17], [18], [-7]])\n",
    "ang_matrix5 = np.hstack([V1, V2, V3])\n",
    "print(f'Ранг матрицы, образованной координатами векторов = {la.matrix_rank(ang_matrix5)} => матрица невырожденная => векторы не компланарны => образуют базиc, ч.т.д\\n')\n",
    "print(f'Координаты данного вектора в новом базисе: {np.ravel(np.dot(la.inv(ang_matrix5), V))}')"
   ]
  },
  {
   "cell_type": "markdown",
   "metadata": {},
   "source": [
    "**6. Проверить, принадлежат ли точки А( 3; 5; –4), В(1; –1; –3), С(7; 2; –6 ) и D(–1; 3; –2) одной плоскости [2]**"
   ]
  },
  {
   "cell_type": "code",
   "execution_count": 168,
   "metadata": {},
   "outputs": [
    {
     "name": "stdout",
     "output_type": "stream",
     "text": [
      "Ранг матрицы векторов = 3\n",
      "Принадлежат!\n"
     ]
    }
   ],
   "source": [
    "A = np.array([[3],[5],[-4]])\n",
    "B = np.array([[1],[-1],[-2]])\n",
    "C = np.array([[7],[2],[-6]])\n",
    "D = np.array([[-1],[3],[-2]])\n",
    "V1, V2, V3 = B - A, C - A, D - A\n",
    "ang_matrix6 = np.hstack([V1, V2, V3])\n",
    "print(f'Ранг матрицы векторов = {la.matrix_rank(ang_matrix6)}')\n",
    "if la.matrix_rank(ang_matrix6) == 3:\n",
    "    print('Принадлежат!')\n",
    "else:\n",
    "    print('Не принадлежат')"
   ]
  },
  {
   "cell_type": "markdown",
   "metadata": {},
   "source": [
    "**7. Парабола с вершиной в начале координат проходит через точку A(9;3) и симметрично относительно оси Ox. Написать её каноническое уравнение, построить ее график. [5]**"
   ]
  },
  {
   "cell_type": "markdown",
   "source": [
    "*$\\cdot$Каноническое уравнение параболы в Декартовой прямоугольной системе координат:*\n",
    "$$y^2=2px\\ $$\n",
    "*$\\cdot$Точка A(9,3) принадлежит параболе, из чего можем найти p:*\n",
    "$$3^2=2p\\cdot9\\ $$\n",
    "$$2p=1\\ $$\n",
    "$$p=\\frac{1}{2}\\ $$\n",
    "*$\\cdot$Тогда каноническое уравнение данной параболы в Декартовой прямоугольной системе координат имеет вид:*\n",
    "$$y^2=x\\ $$"
   ],
   "metadata": {
    "collapsed": false
   }
  },
  {
   "cell_type": "code",
   "execution_count": 169,
   "outputs": [],
   "source": [
    "import matplotlib.pyplot as plt"
   ],
   "metadata": {
    "collapsed": false
   }
  },
  {
   "cell_type": "code",
   "execution_count": 170,
   "metadata": {},
   "outputs": [
    {
     "data": {
      "text/plain": "<Figure size 640x480 with 1 Axes>",
      "image/png": "[encoded data removed]"
     },
     "metadata": {},
     "output_type": "display_data"
    }
   ],
   "source": [
    "def par(y):\n",
    "    return y**2\n",
    "\n",
    "y_val = np.linspace(-5, 5, 1000)\n",
    "x_val = par(y_val)\n",
    "\n",
    "plt.plot(x_val, y_val)\n",
    "plt.xlabel(\"x\")\n",
    "plt.ylabel(\"y\")\n",
    "plt.title(\"$y^2=x\\ $\")\n",
    "plt.grid(True)\n",
    "plt.scatter(9, 3, color='orange', s=20, marker='o')\n",
    "plt.text(9,3.5, 'A(9,3)', color='orange')\n",
    "\n",
    "plt.show()"
   ]
  },
  {
   "cell_type": "markdown",
   "metadata": {},
   "source": [
    "**8. Загрузить массив из файла `array.txt` и дать ему имя `arr`. В массиве `arr` расположены координаты концов векторов $v_i$, начало которых находится в точке (0, 0). [1]**"
   ]
  },
  {
   "cell_type": "code",
   "execution_count": 171,
   "metadata": {},
   "outputs": [
    {
     "name": "stdout",
     "output_type": "stream",
     "text": [
      "Координаты концов векторов:\n",
      "[[0.         0.06327615]\n",
      " [0.02020202 0.03733048]\n",
      " [0.04040404 0.0994418 ]\n",
      " [0.06060606 0.14756662]\n",
      " [0.08080808 0.10606517]\n",
      " [0.1010101  0.15549711]\n",
      " [0.12121212 0.20341839]\n",
      " [0.14141414 0.17470747]\n",
      " [0.16161616 0.17199795]\n",
      " [0.18181818 0.22837941]\n",
      " [0.2020202  0.22303732]\n",
      " [0.22222222 0.25212762]\n",
      " [0.24242424 0.28412745]\n",
      " [0.26262626 0.29592145]\n",
      " [0.28282828 0.3506811 ]\n",
      " [0.3030303  0.3167656 ]\n",
      " [0.32323232 0.4074962 ]\n",
      " [0.34343434 0.38179309]\n",
      " [0.36363636 0.38297962]\n",
      " [0.38383838 0.39186297]\n",
      " [0.4040404  0.45913998]\n",
      " [0.42424242 0.48485336]\n",
      " [0.44444444 0.51077277]\n",
      " [0.46464646 0.54009685]\n",
      " [0.48484848 0.49980859]\n",
      " [0.50505051 0.53557417]\n",
      " [0.52525253 0.51521539]\n",
      " [0.54545455 0.52982618]\n",
      " [0.56565657 0.60343236]\n",
      " [0.58585859 0.55536058]\n",
      " [0.60606061 0.6646595 ]\n",
      " [0.62626263 0.60368846]\n",
      " [0.64646465 0.60690348]\n",
      " [0.66666667 0.70146006]\n",
      " [0.68686869 0.72087976]\n",
      " [0.70707071 0.66622664]\n",
      " [0.72727273 0.71848708]\n",
      " [0.74747475 0.76491801]\n",
      " [0.76767677 0.77293688]\n",
      " [0.78787879 0.78352304]\n",
      " [0.80808081 0.76116121]\n",
      " [0.82828283 0.78692433]\n",
      " [0.84848485 0.82547605]\n",
      " [0.86868687 0.85780262]\n",
      " [0.88888889 0.85207407]\n",
      " [0.90909091 0.87299336]\n",
      " [0.92929293 0.81782268]\n",
      " [0.94949495 0.84170759]\n",
      " [0.96969697 0.85696495]\n",
      " [0.98989899 0.9225068 ]\n",
      " [1.01010101 0.86060953]\n",
      " [1.03030303 0.92088569]\n",
      " [1.05050505 0.88310072]\n",
      " [1.07070707 0.96955214]\n",
      " [1.09090909 0.90489654]\n",
      " [1.11111111 0.93273805]\n",
      " [1.13131313 0.91489248]\n",
      " [1.15151515 1.01216857]\n",
      " [1.17171717 0.94015668]\n",
      " [1.19191919 0.95977237]\n",
      " [1.21212121 0.96239341]\n",
      " [1.23232323 1.02715252]\n",
      " [1.25252525 1.04729524]\n",
      " [1.27272727 1.03721291]\n",
      " [1.29292929 1.04995831]\n",
      " [1.31313131 1.01488701]\n",
      " [1.33333333 1.0456568 ]\n",
      " [1.35353535 1.0453649 ]\n",
      " [1.37373737 0.98496312]\n",
      " [1.39393939 0.98910303]\n",
      " [1.41414141 0.99881113]\n",
      " [1.43434343 0.99511662]\n",
      " [1.45454545 1.07626429]\n",
      " [1.47474747 1.07567649]\n",
      " [1.49494949 1.08107436]\n",
      " [1.51515152 1.09367072]\n",
      " [1.53535354 1.05888482]\n",
      " [1.55555556 1.05541776]\n",
      " [1.57575758 1.05459551]\n",
      " [1.5959596  1.06821168]\n",
      " [1.61616162 1.06801218]\n",
      " [1.63636364 1.017415  ]\n",
      " [1.65656566 1.09382776]\n",
      " [1.67676768 1.00302389]\n",
      " [1.6969697  0.99741768]\n",
      " [1.71717172 1.07183758]\n",
      " [1.73737374 0.98821327]\n",
      " [1.75757576 1.03532468]\n",
      " [1.77777778 1.03388576]\n",
      " [1.7979798  0.97810869]\n",
      " [1.81818182 1.03015647]\n",
      " [1.83838384 1.05678236]\n",
      " [1.85858586 1.02679916]\n",
      " [1.87878788 0.98879339]\n",
      " [1.8989899  1.04083956]\n",
      " [1.91919192 0.95812386]\n",
      " [1.93939394 1.0305433 ]\n",
      " [1.95959596 0.93961553]\n",
      " [1.97979798 0.93644809]\n",
      " [2.         0.94676982]]\n",
      "\n"
     ]
    }
   ],
   "source": [
    "arr = np.loadtxt('array.txt')\n",
    "print(f'Координаты концов векторов:\\n{arr}\\n')"
   ]
  },
  {
   "cell_type": "markdown",
   "metadata": {},
   "source": [
    "**9. Посчитать углы в градусах между $v_i$ и $v_{i+1}$ векторами для всех $i$ [5]**"
   ]
  },
  {
   "cell_type": "code",
   "execution_count": 172,
   "outputs": [],
   "source": [
    "import math as mt"
   ],
   "metadata": {
    "collapsed": false
   }
  },
  {
   "cell_type": "code",
   "execution_count": 173,
   "metadata": {},
   "outputs": [
    {
     "name": "stdout",
     "output_type": "stream",
     "text": [
      "Углы между соседними векторами:\n",
      "\n",
      "[2.84207839e+01 6.30846359e+00 2.15784396e-01 1.49746542e+01\n",
      " 4.29521826e+00 2.21784513e+00 8.19818412e+00 4.22970009e+00\n",
      " 4.69346410e+00 3.64517934e+00 7.76734582e-01 9.20967227e-01\n",
      " 1.11702550e+00 2.70204933e+00 4.84390646e+00 5.30847811e+00\n",
      " 3.55033392e+00 1.54358640e+00 8.91381324e-01 3.05971778e+00\n",
      " 1.61942207e-01 1.57765254e-01 3.22394216e-01 3.42408000e+00\n",
      " 8.09681421e-01 2.23282270e+00 2.79989274e-01 2.68339726e+00\n",
      " 3.38151787e+00 4.17111906e+00 3.69177988e+00 7.56405393e-01\n",
      " 3.26467570e+00 7.28070209e-02 3.08755748e+00 1.35539341e+00\n",
      " 1.00896727e+00 4.65170392e-01 3.54441206e-01 1.55378965e+00\n",
      " 2.45829009e-01 6.79289847e-01 4.26284836e-01 8.50206650e-01\n",
      " 5.09963092e-02 2.49024931e+00 2.06985802e-01 8.78399388e-02\n",
      " 1.51327843e+00 2.55065024e+00 1.35925911e+00 1.73848597e+00\n",
      " 2.10974639e+00 2.48631495e+00 3.36940953e-01 1.04980268e+00\n",
      " 2.35264494e+00 2.57240953e+00 9.94661741e-02 3.93474637e-01\n",
      " 1.36282971e+00 8.90698342e-02 7.22164662e-01 9.91543470e-02\n",
      " 1.37970431e+00 4.05496169e-01 4.25361219e-01 2.03935021e+00\n",
      " 2.81824436e-01 1.24874141e-01 4.81562334e-01 1.74683110e+00\n",
      " 3.92010632e-01 2.34287696e-01 5.00089118e-02 1.22980265e+00\n",
      " 4.36583351e-01 3.63306410e-01 2.37322404e-03 3.37260305e-01\n",
      " 1.58659356e+00 1.56528951e+00 2.54932428e+00 4.41918470e-01\n",
      " 1.52642701e+00 2.34080915e+00 8.69712690e-01 3.20207542e-01\n",
      " 1.63422236e+00 9.88906805e-01 3.56861224e-01 9.73139175e-01\n",
      " 1.16147885e+00 9.69692117e-01 2.19733970e+00 1.45512814e+00\n",
      " 2.36754722e+00 3.03227451e-01 1.79329753e-02]\n"
     ]
    }
   ],
   "source": [
    "ang_matrix9 = np.empty_like(arr)\n",
    "degrees = np.arctan2(arr[:, 1], arr[:, 0])*180/mt.pi\n",
    "d_degrees = np.abs(np.diff(degrees))\n",
    "print(f'Углы между соседними векторами:\\n\\n{d_degrees}')"
   ]
  },
  {
   "cell_type": "markdown",
   "metadata": {},
   "source": [
    "**10. Повернуть векторы $v_i$ на угол 30 градусов против часовой стрелки для всех $i$ [5]**"
   ]
  },
  {
   "cell_type": "code",
   "execution_count": 174,
   "metadata": {},
   "outputs": [
    {
     "name": "stdout",
     "output_type": "stream",
     "text": [
      "Данные углы между осью абсцисс и векторами:\n",
      "[90.         61.57921605 67.88767964 67.67189525 52.69724101 56.99245927\n",
      " 59.2103044  51.01212027 46.78242018 51.47588428 47.83070494 48.60743952\n",
      " 49.52840674 48.41138125 51.11343057 46.26952411 51.57800222 48.02766831\n",
      " 46.48408191 45.59270058 48.65241836 48.81436057 48.97212582 49.29452004\n",
      " 45.87044004 46.68012146 44.44729876 44.16730948 46.85070674 43.46918887\n",
      " 47.64030794 43.94852806 43.19212267 46.45679837 46.38399135 43.29643387\n",
      " 44.65182728 45.66079454 45.19562415 44.84118294 43.2873933  43.53322231\n",
      " 44.21251215 44.63879699 43.78859034 43.83958665 41.34933734 41.55632314\n",
      " 41.4684832  42.98176164 40.43111139 41.7903705  40.05188453 42.16163093\n",
      " 39.67531598 40.01225693 38.96245425 41.31509919 38.74268966 38.84215583\n",
      " 38.44868119 39.8115109  39.90058074 39.17841608 39.07926173 37.69955742\n",
      " 38.10505359 37.67969237 35.64034215 35.35851772 35.23364358 34.75208124\n",
      " 36.49891234 36.10690171 35.87261401 35.8226051  34.59280245 34.1562191\n",
      " 33.79291269 33.79528591 33.45802561 31.87143204 33.43672156 30.88739728\n",
      " 30.44547881 31.97190582 29.63109667 30.50080936 30.18060182 28.54637947\n",
      " 29.53528627 29.89214749 28.91900832 27.75752947 28.72722159 26.52988189\n",
      " 27.98501003 25.61746281 25.31423536 25.33216834]\n",
      "\n",
      "Повернутые углы между осью абсцисс и векторами:\n",
      "[120.          91.57921605  97.88767964  97.67189525  82.69724101\n",
      "  86.99245927  89.2103044   81.01212027  76.78242018  81.47588428\n",
      "  77.83070494  78.60743952  79.52840674  78.41138125  81.11343057\n",
      "  76.26952411  81.57800222  78.02766831  76.48408191  75.59270058\n",
      "  78.65241836  78.81436057  78.97212582  79.29452004  75.87044004\n",
      "  76.68012146  74.44729876  74.16730948  76.85070674  73.46918887\n",
      "  77.64030794  73.94852806  73.19212267  76.45679837  76.38399135\n",
      "  73.29643387  74.65182728  75.66079454  75.19562415  74.84118294\n",
      "  73.2873933   73.53322231  74.21251215  74.63879699  73.78859034\n",
      "  73.83958665  71.34933734  71.55632314  71.4684832   72.98176164\n",
      "  70.43111139  71.7903705   70.05188453  72.16163093  69.67531598\n",
      "  70.01225693  68.96245425  71.31509919  68.74268966  68.84215583\n",
      "  68.44868119  69.8115109   69.90058074  69.17841608  69.07926173\n",
      "  67.69955742  68.10505359  67.67969237  65.64034215  65.35851772\n",
      "  65.23364358  64.75208124  66.49891234  66.10690171  65.87261401\n",
      "  65.8226051   64.59280245  64.1562191   63.79291269  63.79528591\n",
      "  63.45802561  61.87143204  63.43672156  60.88739728  60.44547881\n",
      "  61.97190582  59.63109667  60.50080936  60.18060182  58.54637947\n",
      "  59.53528627  59.89214749  58.91900832  57.75752947  58.72722159\n",
      "  56.52988189  57.98501003  55.61746281  55.31423536  55.33216834]\n"
     ]
    }
   ],
   "source": [
    "print(f'Данные углы между осью абсцисс и векторами:\\n{degrees}\\n')\n",
    "print(f'Повернутые углы между осью абсцисс и векторами:\\n{degrees+30}')"
   ]
  },
  {
   "cell_type": "markdown",
   "metadata": {},
   "source": [
    "## Интерполяция и полиномиальное фиттирование [7]"
   ]
  },
  {
   "cell_type": "markdown",
   "metadata": {},
   "source": [
    "Интерполяция используется для оценки точки между двумя известными. Самая простая интерполяция - линейная. Для решения задач можно пользоваться пакетами:\n",
    "\n",
    "numpy.interp\n",
    "https://docs.scipy.org/doc/numpy/reference/generated/numpy.interp.html\n",
    "scipy.interpolate\n",
    "https://docs.scipy.org/doc/scipy/reference/tutorial/interpolate.html"
   ]
  },
  {
   "cell_type": "markdown",
   "metadata": {},
   "source": [
    "**1. Дана таблица зависимости энергии U от температуры T (в файле data.txt). Нарисуйте эту зависимость U(T). \n",
    "Примените различные виды интерполяции. Какая подходит лучше всего? Найти интерполированное значение для U=2680.78 Kj/kg. [4]**"
   ]
  },
  {
   "cell_type": "code",
   "execution_count": 175,
   "outputs": [],
   "source": [
    "import matplotlib.pyplot as plt\n",
    "from scipy import interpolate as intrp"
   ],
   "metadata": {
    "collapsed": false
   }
  },
  {
   "cell_type": "code",
   "execution_count": 176,
   "outputs": [
    {
     "name": "stdout",
     "output_type": "stream",
     "text": [
      "Таблица зависимости энергии U от температуры T:\n",
      "[[ 100.  2506.7]\n",
      " [ 150.  2582.8]\n",
      " [ 200.  2658.1]\n",
      " [ 250.  2733.7]\n",
      " [ 300.  2810.4]\n",
      " [ 400.  2967.9]\n",
      " [ 500.  3131.6]]\n"
     ]
    }
   ],
   "source": [
    "data = np.loadtxt('data.txt')\n",
    "print(f'Таблица зависимости энергии U от температуры T:\\n{data}')"
   ],
   "metadata": {
    "collapsed": false
   }
  },
  {
   "cell_type": "code",
   "execution_count": 177,
   "outputs": [
    {
     "data": {
      "text/plain": "<Figure size 640x480 with 1 Axes>",
      "image/png": "[encoded data removed]"
     },
     "metadata": {},
     "output_type": "display_data"
    }
   ],
   "source": [
    "T, U = data[:, 0], data[:, 1]\n",
    "U_0 = 2680.78\n",
    "\n",
    "# Указываем частоту интерполяции\n",
    "X = np.linspace(T[0], T[-1], 21)\n",
    "Y = np.interp(X, T, U)\n",
    "\n",
    "# Линейный метод интерполяции:\n",
    "lin = intrp.interp1d(X, Y,kind = 'linear')\n",
    "\n",
    "# Кубический метод интерполяции\n",
    "cubic = intrp.interp1d(X, Y, kind = 'cubic')\n",
    "\n",
    "# Находим интерполированное значение T для U = 2680.78 Kj/kg\n",
    "U_0_interp = np.interp(U_0, U, T)\n",
    "\n",
    "plt.xlabel('Temperature (T)')\n",
    "plt.ylabel('Energy (U)')\n",
    "plt.title('U(T) dependence')\n",
    "plt.plot(T, U, 'o', X, lin(X), '-', X, cubic(X), '--', U_0_interp, U_0, 's')\n",
    "plt.legend(['data', 'linear interpolation', 'cubic interpolation', 'calculated value T for U = 2680.78 Kj/kg'], loc = 'best')\n",
    "plt.show()"
   ],
   "metadata": {
    "collapsed": false
   }
  },
  {
   "cell_type": "markdown",
   "source": [
    "*$\\cdot$Все данные точки лежат на аппроксимирующей прямой, из чего можно сделать вывод от линейной зависимости, так же об этом говорит формула связи внутренней энергии (U) и температуры (U).*\n",
    "\n",
    "*$\\cdot$Оба вида интерполяции в результате вычислили верные значения для промежуточных точек, но, за счет простоты вычислений, линейная интерполяция выполнила задачу быстрее, поэтому для функций с линейной зависимость она подходит лучше.*"
   ],
   "metadata": {
    "collapsed": false
   }
  },
  {
   "cell_type": "code",
   "execution_count": 178,
   "outputs": [
    {
     "name": "stdout",
     "output_type": "stream",
     "text": [
      "Значение температуры T при значении энергии U = 2680.78 Kj/kg - 215.0000000000002\n"
     ]
    }
   ],
   "source": [
    "print(f'Значение температуры T при значении энергии U = 2680.78 Kj/kg - {U_0_interp}')"
   ],
   "metadata": {
    "collapsed": false
   }
  },
  {
   "cell_type": "markdown",
   "metadata": {},
   "source": [
    "**2. Для тех же данных постройте линейную регрессию: y = ax + b. Нарисуйте на одном графике данные и модель. [3]**"
   ]
  },
  {
   "cell_type": "code",
   "execution_count": 179,
   "metadata": {},
   "outputs": [
    {
     "data": {
      "text/plain": "<Figure size 640x480 with 1 Axes>",
      "image/png": "[encoded data removed]"
     },
     "metadata": {},
     "output_type": "display_data"
    }
   ],
   "source": [
    "from sklearn.linear_model import LinearRegression as LR\n",
    "\n",
    "# Реализация метода наименьших квадратов\n",
    "model = LR().fit(T.reshape(-1, 1), U)\n",
    "pred = model.predict(T.reshape(-1, 1))\n",
    "\n",
    "plt.plot(T, U, 'o', label = 'data')\n",
    "plt.plot(T, pred, '-', label='linear regression')\n",
    "plt.xlabel('Temperature (T)')\n",
    "plt.ylabel('Energy (U)')\n",
    "plt.title('U(T) graph')\n",
    "plt.legend()\n",
    "plt.show()"
   ]
  },
  {
   "cell_type": "code",
   "execution_count": 180,
   "outputs": [
    {
     "name": "stdout",
     "output_type": "stream",
     "text": [
      "Уравнение линейной регрессии: y = 1.5583532934131736x + 2347.1898203592814\n"
     ]
    }
   ],
   "source": [
    "print(f'Уравнение линейной регрессии: y = {model.coef_[0]}x + {model.intercept_}')"
   ],
   "metadata": {
    "collapsed": false
   }
  },
  {
   "cell_type": "code",
   "execution_count": 180,
   "outputs": [],
   "source": [],
   "metadata": {
    "collapsed": false
   }
  }
 ],
 "metadata": {
  "kernelspec": {
   "display_name": "Python 3 (ipykernel)",
   "language": "python",
   "name": "python3"
  },
  "language_info": {
   "codemirror_mode": {
    "name": "ipython",
    "version": 3
   },
   "file_extension": ".py",
   "mimetype": "text/x-python",
   "name": "python",
   "nbconvert_exporter": "python",
   "pygments_lexer": "ipython3",
   "version": "3.10.6"
  }
 },
 "nbformat": 4,
 "nbformat_minor": 2
}
