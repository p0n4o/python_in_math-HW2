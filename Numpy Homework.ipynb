{
 "cells": [
  {
   "cell_type": "markdown",
   "metadata": {},
   "source": [
    "# `Python` в науке и инженерии\n",
    "\n",
    "## Домашнее задание №2. `Numpy`\n",
    "\n",
    "Правила выполнения работы:\n",
    "\n",
    "- Решение каждой задачи должно располагаться в **ячейке типа \"Код\" под ячейкой с условием задачи**\n",
    "- **Результат** каждой задачи должен быть **выведен на экран**\n",
    "- **Запрещено** изменять ячейки с условиями задач каким-либо образом и перемещать их\n",
    "- Все задачи должны быть решены с использованием **векторизации**\n",
    "- Если в условии задачи не сказано иное, **не допускается** применение циклов `for`, `while`, генераторов списков и любых других циклов и их заменителей, не входящих в `numpy`\n",
    "- **В квадратных скобках** в конце условия задачи указано **количество баллов** за корректное выполнение этой задачи\n",
    "\n",
    "\n",
    "Полезные документы:\n",
    "\n",
    "- [Numpy Cheat Sheet](https://s3.amazonaws.com/assets.datacamp.com/blog_assets/Numpy_Python_Cheat_Sheet.pdf)\n",
    "- [Scientific Python Lectures / Numpy](https://github.com/jrjohansson/scientific-python-lectures/blob/master/Lecture-2-Numpy.ipynb)\n",
    "- [Matplotlib Cheat Sheet](https://s3.amazonaws.com/assets.datacamp.com/blog_assets/Python_Matplotlib_Cheat_Sheet.pdf)\n"
   ]
  },
  {
   "cell_type": "code",
   "execution_count": 2,
   "metadata": {},
   "outputs": [],
   "source": [
    "import numpy as np"
   ]
  },
  {
   "cell_type": "markdown",
   "metadata": {},
   "source": [
    "### Генерация массивов, индексация и срезы [25]"
   ]
  },
  {
   "cell_type": "markdown",
   "metadata": {},
   "source": [
    "**1. Сгенерировать одномерный целочисленный массив от 6 до 33 включительно с числами, делящимся на 3 [1]**"
   ]
  },
  {
   "cell_type": "code",
   "execution_count": 4,
   "metadata": {},
   "outputs": [
    {
     "name": "stdout",
     "output_type": "stream",
     "text": [
      "[ 6  9 12 15 18 21 24 27 30 33]\n"
     ]
    }
   ],
   "source": [
    "arr1 = np.arange(6, 36, 3)\n",
    "print(arr1)"
   ]
  },
  {
   "cell_type": "markdown",
   "metadata": {},
   "source": [
    "**2. Сгенерировать одномерный массив `x` и найти все `dx[i] = x[i+1] - x[i]` [2]**"
   ]
  },
  {
   "cell_type": "code",
   "execution_count": 32,
   "metadata": {},
   "outputs": [
    {
     "name": "stdout",
     "output_type": "stream",
     "text": [
      "исходный массив: [18 14 24 17 29 22 16 23 24 27 28 24 27 26 11]\n",
      "массив разностей: [ -4  10  -7  12  -7  -6   7   1   3   1  -4   3  -1 -15]\n"
     ]
    }
   ],
   "source": [
    "arr2 = np.random.randint(10, 30, 15)\n",
    "darr2 = np.diff(arr2)\n",
    "print('исходный массив:', arr2)\n",
    "print('массив разностей:', darr2)"
   ]
  },
  {
   "cell_type": "markdown",
   "metadata": {},
   "source": [
    "**3. Создать массив 8х8 и заполнить его 0 и 1 в шахматном порядке, используя срезы [1] и True/False индексацию [1]**"
   ]
  },
  {
   "cell_type": "code",
   "execution_count": 325,
   "metadata": {},
   "outputs": [
    {
     "name": "stdout",
     "output_type": "stream",
     "text": [
      "[[1. 0. 1. 0. 1. 0. 1. 0.]\n",
      " [0. 1. 0. 1. 0. 1. 0. 1.]\n",
      " [1. 0. 1. 0. 1. 0. 1. 0.]\n",
      " [0. 1. 0. 1. 0. 1. 0. 1.]\n",
      " [1. 0. 1. 0. 1. 0. 1. 0.]\n",
      " [0. 1. 0. 1. 0. 1. 0. 1.]\n",
      " [1. 0. 1. 0. 1. 0. 1. 0.]\n",
      " [0. 1. 0. 1. 0. 1. 0. 1.]] \n",
      "\n",
      "[[ True False  True False  True False  True False]\n",
      " [False  True False  True False  True False  True]\n",
      " [ True False  True False  True False  True False]\n",
      " [False  True False  True False  True False  True]\n",
      " [ True False  True False  True False  True False]\n",
      " [False  True False  True False  True False  True]\n",
      " [ True False  True False  True False  True False]\n",
      " [False  True False  True False  True False  True]] \n",
      "\n",
      "[[1. 0. 1. 0. 1. 0. 1. 0.]\n",
      " [0. 1. 0. 1. 0. 1. 0. 1.]\n",
      " [1. 0. 1. 0. 1. 0. 1. 0.]\n",
      " [0. 1. 0. 1. 0. 1. 0. 1.]\n",
      " [1. 0. 1. 0. 1. 0. 1. 0.]\n",
      " [0. 1. 0. 1. 0. 1. 0. 1.]\n",
      " [1. 0. 1. 0. 1. 0. 1. 0.]\n",
      " [0. 1. 0. 1. 0. 1. 0. 1.]] \n",
      "\n"
     ]
    }
   ],
   "source": [
    "matrix3_0 = np.zeros([8,8])\n",
    "matrix3_1 = np.zeros([8,8])\n",
    "\n",
    "# Решение через срезы:\n",
    "matrix3_0[::2, ::2] = 1\n",
    "matrix3_0[1::2, 1::2] = 1\n",
    "print(matrix3_0, '\\n')\n",
    "\n",
    "# Решение через маску:\n",
    "mask = np.full([8,8],False)\n",
    "mask[::2, ::2] = True\n",
    "mask[1::2, 1::2] = True\n",
    "print(mask, '\\n')\n",
    "matrix3_1[mask] = 1\n",
    "print(matrix3_1, '\\n')"
   ]
  },
  {
   "cell_type": "markdown",
   "metadata": {},
   "source": [
    "**4. Создать массив 8х8 и заполнить его 0 и 1 в шахматном порядке, используя функцию tile [2]**"
   ]
  },
  {
   "cell_type": "code",
   "execution_count": 52,
   "metadata": {},
   "outputs": [
    {
     "name": "stdout",
     "output_type": "stream",
     "text": [
      "[[1. 0. 1. 0. 1. 0. 1. 0.]\n",
      " [0. 1. 0. 1. 0. 1. 0. 1.]\n",
      " [1. 0. 1. 0. 1. 0. 1. 0.]\n",
      " [0. 1. 0. 1. 0. 1. 0. 1.]\n",
      " [1. 0. 1. 0. 1. 0. 1. 0.]\n",
      " [0. 1. 0. 1. 0. 1. 0. 1.]\n",
      " [1. 0. 1. 0. 1. 0. 1. 0.]\n",
      " [0. 1. 0. 1. 0. 1. 0. 1.]]\n"
     ]
    }
   ],
   "source": [
    "matrix4 = np.identity(2)\n",
    "matrix4 = np.tile(matrix4, [4,4])\n",
    "print(matrix4)"
   ]
  },
  {
   "cell_type": "markdown",
   "metadata": {},
   "source": [
    "**5. Создать двумерный массив и выбрать из него элементы согласно рисунку [2]**\n",
    "\n",
    "<img src='hw-slice1.png' width=240, heigth=240>"
   ]
  },
  {
   "cell_type": "code",
   "execution_count": 81,
   "metadata": {},
   "outputs": [
    {
     "name": "stdout",
     "output_type": "stream",
     "text": [
      "исходная матрица: \n",
      " [[ 1  2  3  4  5  6  7  8]\n",
      " [ 9 10 11 12 13 14 15 16]\n",
      " [17 18 19 20 21 22 23 24]\n",
      " [25 26 27 28 29 30 31 32]\n",
      " [33 34 35 36 37 38 39 40]\n",
      " [41 42 43 44 45 46 47 48]\n",
      " [49 50 51 52 53 54 55 56]\n",
      " [57 58 59 60 61 62 63 64]] \n",
      "\n",
      "список выбранных элементов: \n",
      " [[19 20 21 22 27 28 29 30 35 36 37 38 43 44 45 46]]\n"
     ]
    }
   ],
   "source": [
    "matrix5 = np.arange(1,65).reshape([8,8])\n",
    "print('исходная матрица: \\n', matrix5, '\\n')\n",
    "mask = np.full([8,8],True)\n",
    "mask[:2:] = False\n",
    "mask[::, :2:] = False\n",
    "mask[7:5:-1] = False\n",
    "mask[::, 7:5:-1] = False\n",
    "arr5 = matrix5[mask].reshape(1,-1)\n",
    "print('список выбранных элементов: \\n',arr5)"
   ]
  },
  {
   "cell_type": "markdown",
   "metadata": {},
   "source": [
    "**6. Создать двумерный массив и выбрать из него элементы согласно рисунку [3]**\n",
    "<img src='hw-slice2.png' width=240, heigth=240>"
   ]
  },
  {
   "cell_type": "code",
   "execution_count": 128,
   "metadata": {},
   "outputs": [
    {
     "name": "stdout",
     "output_type": "stream",
     "text": [
      "исходная матрица: \n",
      " [[  2   4   6   8  10  12  14  16  18]\n",
      " [ 20  22  24  26  28  30  32  34  36]\n",
      " [ 38  40  42  44  46  48  50  52  54]\n",
      " [ 56  58  60  62  64  66  68  70  72]\n",
      " [ 74  76  78  80  82  84  86  88  90]\n",
      " [ 92  94  96  98 100 102 104 106 108]\n",
      " [110 112 114 116 118 120 122 124 126]\n",
      " [128 130 132 134 136 138 140 142 144]\n",
      " [146 148 150 152 154 156 158 160 162]] \n",
      "\n",
      "список выбранных элементов: \n",
      " [[  2   4   6   8  10  12  14  16  18  20  22  24  26  28  30  32  34  38\n",
      "   40  42  44  46  48  50  56  58  60  62  64  66  74  76  78  80  82  92\n",
      "   94  96  98 110 112 114 128 130 146]]\n"
     ]
    }
   ],
   "source": [
    "matrix6 = np.arange(2,164,2).reshape([9,9])\n",
    "print('исходная матрица: \\n', matrix6, '\\n')\n",
    "mask = np.full([9,9],True)\n",
    "mask = np.triu(mask)\n",
    "mask = np.rot90(mask)\n",
    "arr6 = matrix6[mask].reshape(1,-1)\n",
    "print('список выбранных элементов: \\n',arr6)"
   ]
  },
  {
   "cell_type": "markdown",
   "metadata": {},
   "source": [
    "**7. Создать двумерный массив и выбрать из него элементы согласно рисунку [2]**\n",
    "<img src='hw-slice3.png' width=240, heigth=240>"
   ]
  },
  {
   "cell_type": "code",
   "execution_count": 152,
   "metadata": {},
   "outputs": [
    {
     "name": "stdout",
     "output_type": "stream",
     "text": [
      "исходная матрица: \n",
      " [[100  99  98  97  96  95  94  93  92]\n",
      " [ 91  90  89  88  87  86  85  84  83]\n",
      " [ 82  81  80  79  78  77  76  75  74]\n",
      " [ 73  72  71  70  69  68  67  66  65]\n",
      " [ 64  63  62  61  60  59  58  57  56]\n",
      " [ 55  54  53  52  51  50  49  48  47]\n",
      " [ 46  45  44  43  42  41  40  39  38]\n",
      " [ 37  36  35  34  33  32  31  30  29]\n",
      " [ 28  27  26  25  24  23  22  21  20]] \n",
      "\n",
      "[[False  True False False  True False False  True False]\n",
      " [False  True False False  True False False  True False]\n",
      " [False False False False False False False False False]\n",
      " [False False False False False False False False False]\n",
      " [False False False False False False False False False]\n",
      " [False False False False False False False False False]\n",
      " [False False False False False False False False False]\n",
      " [False  True False False  True False False  True False]\n",
      " [False  True False False  True False False  True False]]\n",
      "список выбранных элементов: \n",
      " [[99 96 93 90 87 84 36 33 30 27 24 21]]\n"
     ]
    }
   ],
   "source": [
    "matrix7 = np.arange(100,19,-1).reshape([9,9])\n",
    "print('исходная матрица: \\n', matrix7, '\\n')\n",
    "mask = np.full([9,9],False)\n",
    "mask[:2:,1::3] = True\n",
    "mask[:6:-1,1::3] = True\n",
    "print(mask)\n",
    "arr7 = matrix7[mask].reshape(1,-1)\n",
    "print('список выбранных элементов: \\n',arr7)"
   ]
  },
  {
   "cell_type": "markdown",
   "metadata": {},
   "source": [
    "**8. Сформировать двумерный массив с распределением Гаусса [2]** "
   ]
  },
  {
   "cell_type": "code",
   "execution_count": 163,
   "metadata": {},
   "outputs": [
    {
     "name": "stdout",
     "output_type": "stream",
     "text": [
      "[[-0.19883605 -0.32435664 -0.06048124 -1.36367442 -0.91407234]\n",
      " [-0.4334167  -3.01239203  1.84942389 -0.60907552  0.51780349]\n",
      " [-0.37565741 -1.59580899  0.47923214 -0.63969702  1.6971121 ]\n",
      " [ 0.20631466 -0.0675134  -1.58366164 -1.92136842 -0.30408235]\n",
      " [ 0.68147566  0.61537577 -1.08401918 -0.07575167 -0.20533246]]\n"
     ]
    }
   ],
   "source": [
    "matrix8 = np.random.normal(size = (5, 5))\n",
    "print(matrix8)"
   ]
  },
  {
   "cell_type": "markdown",
   "metadata": {},
   "source": [
    "**9. Создайте функцию, которая из строки длины $n$ возвращает матрицу размера $n{\\times}n$ со строками, состоящими из исходной строки, смещённой на $k=\\overline{0,n-1}$ позиций [4] : \n",
    "$$s = \\{1, 2, 3\\}$$\n",
    "$$A = \\begin{bmatrix} 1 & 2 & 3 \\\\ 3 & 1 & 2 \\\\ 2 & 3 & 1 \\end{bmatrix}$$**"
   ]
  },
  {
   "cell_type": "markdown",
   "metadata": {},
   "source": [
    "Создайте "
   ]
  },
  {
   "cell_type": "code",
   "execution_count": 280,
   "metadata": {},
   "outputs": [],
   "source": [
    "def make_matrix9(stroke, len, n):\n",
    "    matrix9 = [list(stroke[len-n:len] + stroke[:len-n])]\n",
    "    if n != len-1:\n",
    "        return np.vstack([matrix9,make_matrix(stroke, len, n+1)])\n",
    "    else:\n",
    "        return matrix9"
   ]
  },
  {
   "cell_type": "code",
   "execution_count": 283,
   "outputs": [
    {
     "name": "stdout",
     "output_type": "stream",
     "text": [
      "[['2' '3' '4' '5' '6']\n",
      " ['6' '2' '3' '4' '5']\n",
      " ['5' '6' '2' '3' '4']\n",
      " ['4' '5' '6' '2' '3']\n",
      " ['3' '4' '5' '6' '2']]\n"
     ]
    }
   ],
   "source": [
    "str = input()\n",
    "print(make_matrix9(str, len(str), 0))"
   ],
   "metadata": {
    "collapsed": false
   }
  },
  {
   "cell_type": "markdown",
   "metadata": {},
   "source": [
    "**10. Создать функцию, генерирующую матрицу размера $n{\\times}n$ следующего вида:[5]**\n",
    "\n",
    "*Можно использовать for и column_stack row_stack*\n",
    "$$\\begin{vmatrix}1\\\\ \\end{vmatrix} \\; \\begin{vmatrix} 1 & 1 \\\\ 1 & 1 \\\\ \\end{vmatrix}\\; \\begin{vmatrix} 2 & 2 &2\\\\ 2 & 1 &2\\\\ 2 & 2 &2\\\\ \\end{vmatrix} \\; \\begin{vmatrix} 2 & 2 & 2 &2\\\\ 2 & 1 & 1 &2\\\\ 2 & 1 & 1 &2\\\\ 2 & 2 & 2 &2\\\\ \\end{vmatrix} \\; \\begin{vmatrix} 3 & 3 & 3 & 3 &3\\\\ 3 & 2 & 2 & 2 &3\\\\ 3 & 2 & 1 & 2 &3\\\\ 3 & 2 & 2 & 2 &3\\\\ 3 & 3 & 3 & 3 &3\\\\ \\end{vmatrix}\\; \\begin{vmatrix} 4 & 4 & 4 & 4 & 4 & 4 & 4 & 4\\\\ 4 & 3 & 3 & 3 & 3 & 3 & 3 & 4\\\\ 4 & 3 & 2 & 2 & 2 & 2 & 3 & 4\\\\ 4 & 3 & 2 & 1 & 1 & 2 & 3 & 4\\\\ 4 & 3 & 2 & 1 & 1 & 2 & 3 & 4\\\\ 4 & 3 & 2 & 2 & 2 & 2 & 3 & 4\\\\ 4 & 3 & 3 & 3 & 3 & 3 & 3 & 4\\\\ 4 & 4 & 4 & 4 & 4 & 4 & 4 & 4\\\\ \\end{vmatrix}$$"
   ]
  },
  {
   "cell_type": "code",
   "execution_count": 317,
   "metadata": {},
   "outputs": [],
   "source": [
    "def make_matrix10(n):\n",
    "    matrix10 = np.ones([n,n])\n",
    "    for i in range(n//2):\n",
    "        matrix10[i:n-i, i:i+1] = n//2 + n%2 - i\n",
    "        matrix10[i:i+1, i:n-i] = n//2 + n%2 - i\n",
    "        matrix10[i:n-i, n-i-1:n-i] = n//2 + n%2 - i\n",
    "        matrix10[n-i-1:n-i, i:n-i] = n//2 + n%2 - i\n",
    "    return matrix10"
   ]
  },
  {
   "cell_type": "code",
   "execution_count": 328,
   "outputs": [
    {
     "name": "stdout",
     "output_type": "stream",
     "text": [
      "[[5. 5. 5. 5. 5. 5. 5. 5. 5. 5.]\n",
      " [5. 4. 4. 4. 4. 4. 4. 4. 4. 5.]\n",
      " [5. 4. 3. 3. 3. 3. 3. 3. 4. 5.]\n",
      " [5. 4. 3. 2. 2. 2. 2. 3. 4. 5.]\n",
      " [5. 4. 3. 2. 1. 1. 2. 3. 4. 5.]\n",
      " [5. 4. 3. 2. 1. 1. 2. 3. 4. 5.]\n",
      " [5. 4. 3. 2. 2. 2. 2. 3. 4. 5.]\n",
      " [5. 4. 3. 3. 3. 3. 3. 3. 4. 5.]\n",
      " [5. 4. 4. 4. 4. 4. 4. 4. 4. 5.]\n",
      " [5. 5. 5. 5. 5. 5. 5. 5. 5. 5.]]\n"
     ]
    }
   ],
   "source": [
    "print(make_matrix10(int(input())))"
   ],
   "metadata": {
    "collapsed": false
   }
  },
  {
   "cell_type": "markdown",
   "metadata": {},
   "source": [
    "## Линейная алгебра [9]"
   ]
  },
  {
   "cell_type": "markdown",
   "metadata": {},
   "source": [
    "**1. Вычислить $$\\left((А - 2B^T)\\cdot(C+2D)\\right)^{-1}$$ [2]**\n",
    "\n",
    "$$A = \\begin{bmatrix} -3 & 0 \\\\ 2 & -1 \\\\ 1 & 1 \\\\ 0 & 3 \\end{bmatrix}$$\n",
    "$$B = \\begin{bmatrix} 3 & 2& 1 & -4 \\\\ 1 & 1& -3 & 0  \\end{bmatrix}$$\n",
    "$$C = \\begin{bmatrix} 4 & 0& -3& 2 \\\\2& 3& -1& 4 \\end{bmatrix}$$\n",
    "$$D = \\begin{bmatrix} 10 & 5 & -1& 1 \\\\ -4 & 3 & -3& 0 \\end{bmatrix}$$\n",
    "\n",
    "\n"
   ]
  },
  {
   "cell_type": "code",
   "execution_count": 332,
   "outputs": [],
   "source": [
    "from numpy import linalg as la"
   ],
   "metadata": {
    "collapsed": false
   }
  },
  {
   "cell_type": "code",
   "execution_count": 346,
   "metadata": {},
   "outputs": [
    {
     "name": "stdout",
     "output_type": "stream",
     "text": [
      "[[-5.18547825e+12  1.27479609e+13  4.85599249e+12 -2.03967374e+12]\n",
      " [ 8.19478151e+13 -1.00963850e+14 -4.60809368e+13  6.11902123e+13]\n",
      " [ 3.68082662e+13 -1.40737488e+14 -4.97994190e+13 -0.00000000e+00]\n",
      " [-1.27746336e+14 -0.00000000e+00  2.38171134e+13 -1.40737488e+14]]\n"
     ]
    }
   ],
   "source": [
    "a = np.array([[-3, 0], [2, -1], [1, 1], [0, 3]])\n",
    "b = np.array([[3, 2, 1, -4], [1, 1, -3, 0]])\n",
    "c = np.array([[4, 0, -3, 2], [2, 3, -1, 4]])\n",
    "d = np.array([[10, 5, -1, 1], [-4, 3, -3, 0]])\n",
    "lin_matrix1 = la.inv((a - 2 * b.T).dot((c + 2 * d)))\n",
    "print(lin_matrix1)"
   ]
  },
  {
   "cell_type": "markdown",
   "metadata": {},
   "source": [
    "**2. Решить матричное уравнение $$A\\cdot X = B$$ [3]**\n",
    "$$A = \\begin{bmatrix} 3 & 1 \\\\ -3 & 1\\end{bmatrix}$$\n",
    "$$B = \\begin{bmatrix} 9 & 5 \\\\ -3 & -1\\end{bmatrix}$$"
   ]
  },
  {
   "cell_type": "code",
   "execution_count": 347,
   "metadata": {},
   "outputs": [
    {
     "name": "stdout",
     "output_type": "stream",
     "text": [
      "[[2. 1.]\n",
      " [3. 2.]]\n"
     ]
    }
   ],
   "source": [
    "a = np.array([[3, 1], [-3, 1]])\n",
    "b = np.array([[9, 5], [-3, -1]])\n",
    "lin_matrix2 = la.inv(a).dot(b)\n",
    "print(lin_matrix2)"
   ]
  },
  {
   "cell_type": "markdown",
   "metadata": {},
   "source": [
    "**3. Определить максимальное число линейно независимых строк матрцицы [1]**\n",
    "$$A = \\begin{bmatrix} 2 & 3 & 5 \\\\ 3&7&8 \\\\ 1&-6&1 \\\\ 7 &-2 &15 \\end{bmatrix}$$"
   ]
  },
  {
   "cell_type": "code",
   "execution_count": 352,
   "metadata": {},
   "outputs": [
    {
     "name": "stdout",
     "output_type": "stream",
     "text": [
      "2\n"
     ]
    }
   ],
   "source": [
    "# Ранг марицы - максимальное число линейно независимых строк\n",
    "# Используем это утверждение для решения\n",
    "a = np.array([[2, 3, 5], [3, 7, 8], [1, -6, 1], [7, -2, 15]])\n",
    "print(la.matrix_rank(a))"
   ]
  },
  {
   "cell_type": "markdown",
   "metadata": {},
   "source": [
    "**4. Решить систему линейных алгебраических уравнений и продемонстрировать правильность решения [3]**\n",
    "<img src='hw-slau.png' width=400, heigth=240>\n"
   ]
  },
  {
   "cell_type": "code",
   "execution_count": 388,
   "outputs": [
    {
     "name": "stdout",
     "output_type": "stream",
     "text": [
      "Корни уравнения:\n",
      " [-7.63203007 18.19576706 17.99409093  8.95556787 -9.71857145  1.87138468\n",
      "  5.19594038 -8.99922225] \n",
      "\n",
      "Координаты данного вектора:\n",
      " [ 34  62  53  93  32  44  99 -75]\n",
      "Решения линейных комбинаций:\n",
      " [ 34.  62.  53.  93.  32.  44.  99. -75.]\n"
     ]
    }
   ],
   "source": [
    "coefs = np.array([[-5, -5, 0, 11, 2, -9, 3,-1], [-11, -4, 4, -5, -8, 4, 2, 8], [-1, 0, 2, -7, 2, -4, 0, -11], [1, -7, 13, -4, 2, -1, -4, -8],\n",
    "                 [0, 2, 7, -4, 0, -5, -6, 6], [-3, -1, 5, 0, 0, -1, 1, 6], [7, 0, 8, -4, 1, -5, 7, -3], [-4, -3, 0, 2, 9, -8, 3, -2]])\n",
    "ext = np.array([34, 62, 53, 93, 32, 44, 99, -75])\n",
    "lin_arr3 = la.solve(coefs, ext.T)\n",
    "print('Корни уравнения:\\n', lin_arr3, '\\n')\n",
    "lin_matrix3 = lin_arr3[0]*coefs[:, 0] + lin_arr3[1]*coefs[:, 1] + lin_arr3[2]*coefs[:, 2] + lin_arr3[3]*coefs[:, 3]\\\n",
    "              + lin_arr3[4]*coefs[:, 4] + lin_arr3[5]*coefs[:, 5] + lin_arr3[6]*coefs[:, 6] + lin_arr3[7]*coefs[:, 7]\n",
    "print('Координаты данного вектора:\\n', ext)\n",
    "print('Решения линейных комбинаций:\\n', lin_matrix3)"
   ],
   "metadata": {
    "collapsed": false
   }
  },
  {
   "cell_type": "markdown",
   "metadata": {},
   "source": [
    "## Аналитическая геометрия [32]"
   ]
  },
  {
   "cell_type": "markdown",
   "metadata": {},
   "source": [
    "**1. Сгенерировать массив из 10 точек (10 пар координат в декартовой системе координат). Приобразовать координаты в полярную систему [2]**"
   ]
  },
  {
   "cell_type": "code",
   "execution_count": null,
   "metadata": {},
   "outputs": [],
   "source": []
  },
  {
   "cell_type": "markdown",
   "metadata": {},
   "source": [
    "**2. Дан массив (100,2) координат точек. Найти две точки, находящиеся на максимальном расстоянии друг от друга, и вывести их координаты [2]**"
   ]
  },
  {
   "cell_type": "code",
   "execution_count": 8,
   "metadata": {},
   "outputs": [],
   "source": [
    "M = np.random.random((100,2))"
   ]
  },
  {
   "cell_type": "markdown",
   "metadata": {},
   "source": [
    "**3. Дан набор точек P и прямая L (y = Ax + B). Написать функцию, вычисляющую расстояние от каждой точки до прямой [3]** "
   ]
  },
  {
   "cell_type": "code",
   "execution_count": 9,
   "metadata": {},
   "outputs": [],
   "source": [
    "P = np.random.uniform(-10,10,(10,2))\n",
    "L = np.random.uniform(-10,10, (1,2))\n"
   ]
  },
  {
   "cell_type": "markdown",
   "metadata": {},
   "source": [
    "**4. Сгенерировать массив P размера (4, 2) из случайных чисел, равномерно распределенных в полуинтервале (-10, 10). Считая, что массив хранит координаты точек на плоскости, провести через первую и вторую пару точек прямые и найти координаты точки их пересечения [5]**"
   ]
  },
  {
   "cell_type": "code",
   "execution_count": null,
   "metadata": {},
   "outputs": [],
   "source": []
  },
  {
   "cell_type": "markdown",
   "metadata": {},
   "source": [
    "**5. Доказать, что векторы (3; 4; 3), (–2; 3; 1), (4; –2; 3) образуют базис и найти координаты вектора (–17; 18; –7) в этом базисе. [2]**"
   ]
  },
  {
   "cell_type": "code",
   "execution_count": null,
   "metadata": {},
   "outputs": [],
   "source": []
  },
  {
   "cell_type": "markdown",
   "metadata": {},
   "source": [
    "**6. Проверить, принадлежат ли точки А( 3; 5; –4), В(1; –1; –3), С(7; 2; –6 ) и D(–1; 3; –2) одной плоскости [2]**"
   ]
  },
  {
   "cell_type": "code",
   "execution_count": null,
   "metadata": {},
   "outputs": [],
   "source": []
  },
  {
   "cell_type": "markdown",
   "metadata": {},
   "source": [
    "**7. Парабола с вершиной в начале координат проходит через точку A(9;3) и симметрично относительно оси Ox. Написать её каноническое уравнение, построить ее график. [5]**"
   ]
  },
  {
   "cell_type": "markdown",
   "source": [
    "*$\\cdot$Каноническое уравнение параболы в Декартовой прямоугольной системе координат:*\n",
    "$$y^2=2px\\ $$\n",
    "*$\\cdot$Точка A(9,3) принадлежит параболе, из чего можем найти p:*\n",
    "$$3^2=2p\\cdot9\\ $$\n",
    "$$2p=1\\ $$\n",
    "$$p=\\frac{1}{2}\\ $$\n",
    "*$\\cdot$Тогда каноническое уравнение данной параболы в Декартовой прямоугольной системе координат имеет вид:*\n",
    "$$y^2=x\\ $$"
   ],
   "metadata": {
    "collapsed": false
   }
  },
  {
   "cell_type": "code",
   "execution_count": 415,
   "metadata": {},
   "outputs": [
    {
     "data": {
      "text/plain": "<Figure size 640x480 with 1 Axes>",
      "image/png": "[encoded data removed]"
     },
     "metadata": {},
     "output_type": "display_data"
    }
   ],
   "source": [
    "import matplotlib.pyplot as plt\n",
    "\n",
    "def par(y):\n",
    "    return y**2\n",
    "\n",
    "y_val = np.linspace(-5, 5, 1000)\n",
    "x_val = par(y_val)\n",
    "\n",
    "plt.plot(x_val, y_val)\n",
    "plt.xlabel(\"x\")\n",
    "plt.ylabel(\"y\")\n",
    "plt.title(\"$y^2=x\\ $\")\n",
    "plt.grid(True)\n",
    "plt.scatter(9, 3, color='orange', s=20, marker='o')\n",
    "plt.text(9,3.5, 'A(9,3)', color='orange')\n",
    "\n",
    "plt.show()"
   ]
  },
  {
   "cell_type": "markdown",
   "metadata": {},
   "source": [
    "**8. Загрузить массив из файла `array.txt` и дать ему имя `arr`. В массиве `arr` расположены координаты концов векторов $v_i$, начало которых находится в точке (0, 0). [1]**"
   ]
  },
  {
   "cell_type": "code",
   "execution_count": null,
   "metadata": {},
   "outputs": [],
   "source": []
  },
  {
   "cell_type": "markdown",
   "metadata": {},
   "source": [
    "**9. Посчитать углы в градусах между $v_i$ и $v_{i+1}$ векторами для всех $i$ [5]**"
   ]
  },
  {
   "cell_type": "code",
   "execution_count": null,
   "metadata": {},
   "outputs": [],
   "source": []
  },
  {
   "cell_type": "markdown",
   "metadata": {},
   "source": [
    "**10. Повернуть векторы $v_i$ на угол 30 градусов против часовой стрелки для всех $i$ [5]**"
   ]
  },
  {
   "cell_type": "code",
   "execution_count": null,
   "metadata": {},
   "outputs": [],
   "source": []
  },
  {
   "cell_type": "markdown",
   "metadata": {},
   "source": [
    "## Интерполяция и полиномиальное фиттирование [7]"
   ]
  },
  {
   "cell_type": "markdown",
   "metadata": {},
   "source": [
    "Интерполяция используется для оценки точки между двумя известными. Самая простая интерполяция - линейная. Для решения задач можно пользоваться пакетами:\n",
    "\n",
    "numpy.interp\n",
    "https://docs.scipy.org/doc/numpy/reference/generated/numpy.interp.html\n",
    "scipy.interpolate\n",
    "https://docs.scipy.org/doc/scipy/reference/tutorial/interpolate.html"
   ]
  },
  {
   "cell_type": "markdown",
   "metadata": {},
   "source": [
    "**1. Дана таблица зависимости энергии U от температуры T (в файле data.txt). Нарисуйте эту зависимость U(T). \n",
    "Примените различные виды интерполяции. Какая подходит лучше всего? Найти интерполированное значение для U=2680.78 Kj/kg. [4]**"
   ]
  },
  {
   "cell_type": "code",
   "execution_count": null,
   "metadata": {},
   "outputs": [],
   "source": []
  },
  {
   "cell_type": "markdown",
   "metadata": {},
   "source": [
    "**2. Для тех же данных постройте линейную регрессию: y = ax + b. Нарисуйте на одном графике данные и модель. [3]**"
   ]
  },
  {
   "cell_type": "code",
   "execution_count": null,
   "metadata": {},
   "outputs": [],
   "source": []
  }
 ],
 "metadata": {
  "kernelspec": {
   "display_name": "Python 3 (ipykernel)",
   "language": "python",
   "name": "python3"
  },
  "language_info": {
   "codemirror_mode": {
    "name": "ipython",
    "version": 3
   },
   "file_extension": ".py",
   "mimetype": "text/x-python",
   "name": "python",
   "nbconvert_exporter": "python",
   "pygments_lexer": "ipython3",
   "version": "3.10.6"
  }
 },
 "nbformat": 4,
 "nbformat_minor": 2
}
